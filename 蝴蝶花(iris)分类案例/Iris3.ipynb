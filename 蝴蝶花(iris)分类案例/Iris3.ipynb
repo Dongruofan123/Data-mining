{
 "cells": [
  {
   "cell_type": "code",
   "execution_count": 5,
   "metadata": {},
   "outputs": [
    {
     "name": "stdout",
     "output_type": "stream",
     "text": [
      "[ 4.9  3.1  1.5  0.1]\t-->\tsetosa\t(Actual:setosa)\n",
      "[ 5.9  3.   5.1  1.8]\t-->\tvirginica\t(Actual:virginica)\n",
      "[ 5.8  2.7  3.9  1.2]\t-->\tversicolor\t(Actual:versicolor)\n",
      "[ 5.7  3.   4.2  1.2]\t-->\tversicolor\t(Actual:versicolor)\n",
      "[ 6.3  2.5  5.   1.9]\t-->\tvirginica\t(Actual:virginica)\n",
      "[ 4.8  3.4  1.6  0.2]\t-->\tsetosa\t(Actual:setosa)\n",
      "[ 6.5  2.8  4.6  1.5]\t-->\tversicolor\t(Actual:versicolor)\n",
      "[ 5.6  2.9  3.6  1.3]\t-->\tversicolor\t(Actual:versicolor)\n",
      "[ 6.1  2.9  4.7  1.4]\t-->\tversicolor\t(Actual:versicolor)\n",
      "[ 4.6  3.2  1.4  0.2]\t-->\tsetosa\t(Actual:setosa)\n",
      "[ 4.4  2.9  1.4  0.2]\t-->\tsetosa\t(Actual:setosa)\n",
      "[ 4.3  3.   1.1  0.1]\t-->\tsetosa\t(Actual:setosa)\n",
      "[ 7.7  2.8  6.7  2. ]\t-->\tvirginica\t(Actual:virginica)\n",
      "[ 6.5  3.   5.5  1.8]\t-->\tvirginica\t(Actual:virginica)\n",
      "[ 6.7  3.3  5.7  2.5]\t-->\tvirginica\t(Actual:virginica)\n",
      "[ 4.7  3.2  1.6  0.2]\t-->\tsetosa\t(Actual:setosa)\n",
      "[ 6.   2.7  5.1  1.6]\t-->\tversicolor\t(Actual:versicolor)\n",
      "[ 5.7  2.5  5.   2. ]\t-->\tvirginica\t(Actual:virginica)\n",
      "[ 6.9  3.1  5.1  2.3]\t-->\tvirginica\t(Actual:virginica)\n",
      "[ 5.7  2.9  4.2  1.3]\t-->\tversicolor\t(Actual:versicolor)\n",
      "[ 7.2  3.6  6.1  2.5]\t-->\tvirginica\t(Actual:virginica)\n",
      "[ 6.1  3.   4.9  1.8]\t-->\tvirginica\t(Actual:virginica)\n",
      "[ 5.5  2.3  4.   1.3]\t-->\tversicolor\t(Actual:versicolor)\n",
      "[ 6.7  2.5  5.8  1.8]\t-->\tvirginica\t(Actual:virginica)\n",
      "[ 5.7  2.8  4.5  1.3]\t-->\tversicolor\t(Actual:versicolor)\n",
      "[ 5.7  3.8  1.7  0.3]\t-->\tsetosa\t(Actual:setosa)\n",
      "[ 6.4  3.1  5.5  1.8]\t-->\tvirginica\t(Actual:virginica)\n",
      "[ 5.2  3.5  1.5  0.2]\t-->\tsetosa\t(Actual:setosa)\n",
      "[ 6.7  3.   5.2  2.3]\t-->\tvirginica\t(Actual:virginica)\n",
      "[ 5.5  4.2  1.4  0.2]\t-->\tsetosa\t(Actual:setosa)\n",
      "[ 4.9  3.1  1.5  0.2]\t-->\tsetosa\t(Actual:setosa)\n",
      "[ 5.7  4.4  1.5  0.4]\t-->\tsetosa\t(Actual:setosa)\n",
      "[ 5.   2.   3.5  1. ]\t-->\tversicolor\t(Actual:versicolor)\n",
      "[ 5.4  3.7  1.5  0.2]\t-->\tsetosa\t(Actual:setosa)\n",
      "[ 6.7  3.1  4.4  1.4]\t-->\tversicolor\t(Actual:versicolor)\n",
      "[ 5.   3.6  1.4  0.2]\t-->\tsetosa\t(Actual:setosa)\n",
      "[ 5.2  4.1  1.5  0.1]\t-->\tsetosa\t(Actual:setosa)\n",
      "[ 6.2  2.2  4.5  1.5]\t-->\tversicolor\t(Actual:versicolor)\n"
     ]
    }
   ],
   "source": [
    "%matplotlib inline\n",
    "\n",
    "import pandas as pd\n",
    "import numpy as np\n",
    "from sklearn.ensemble import RandomForestClassifier\n",
    "from sklearn.cross_validation import train_test_split\n",
    "from sklearn.cross_validation import cross_val_score\n",
    "\n",
    "df = pd.read_csv('Iris_clean.csv')\n",
    "\n",
    "training_set = df[['sepal_lenth_cm','sepal_width_cm','petal_length_cm','petal_width_cm']].values\n",
    "training_class = df['class'].values\n",
    "\n",
    "random_forest_classifier = RandomForestClassifier(bootstrap=True, class_weight=None, criterion='gini',\n",
    "            max_depth=None, max_features=4, max_leaf_nodes=None,\n",
    "            min_impurity_decrease=0.0, min_impurity_split=None,\n",
    "            min_samples_leaf=1, min_samples_split=2,\n",
    "            min_weight_fraction_leaf=0.0, n_estimators=5, n_jobs=1,\n",
    "            oob_score=False, random_state=None, verbose=0,\n",
    "            warm_start=False)\n",
    "\n",
    "cv_scores = cross_val_score(random_forest_classifier, training_set, training_class, cv=10)\n",
    "\n",
    "(training_inputs,\n",
    "testing_inputs,\n",
    "training_classes,\n",
    "testing_classes) = train_test_split(training_set, training_class, train_size=0.75)\n",
    "\n",
    "random_forest_classifier.fit(training_set, training_class)\n",
    "\n",
    "for input_feature, prediction, actual in zip(testing_inputs,\n",
    "                                             random_forest_classifier.predict(testing_inputs),\n",
    "                                             testing_classes):\n",
    "    print('{}\\t-->\\t{}\\t(Actual:{})'.format(input_feature, prediction, actual))"
   ]
  }
 ],
 "metadata": {
  "kernelspec": {
   "display_name": "Python 3",
   "language": "python",
   "name": "python3"
  },
  "language_info": {
   "codemirror_mode": {
    "name": "ipython",
    "version": 3
   },
   "file_extension": ".py",
   "mimetype": "text/x-python",
   "name": "python",
   "nbconvert_exporter": "python",
   "pygments_lexer": "ipython3",
   "version": "3.6.1"
  }
 },
 "nbformat": 4,
 "nbformat_minor": 2
}
