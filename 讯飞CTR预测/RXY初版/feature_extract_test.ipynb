{
 "cells": [
  {
   "cell_type": "code",
   "execution_count": 1,
   "metadata": {},
   "outputs": [],
   "source": [
    "import numpy as np\n",
    "import pandas as pd\n",
    "import xgboost as xgb"
   ]
  },
  {
   "cell_type": "code",
   "execution_count": 2,
   "metadata": {},
   "outputs": [],
   "source": [
    "train_data = pd.read_table('./data/round1_iflyad_train.txt')"
   ]
  },
  {
   "cell_type": "code",
   "execution_count": 3,
   "metadata": {},
   "outputs": [
    {
     "name": "stdout",
     "output_type": "stream",
     "text": [
      "           instance_id        time             city         province  \\\n",
      "0    86294719979897807  2190219034  137103102105100  137103102100100   \n",
      "1  2699289844928136052  2190221070  137105101100100  137105101100100   \n",
      "2  3117527168445845752  2190219793  137103104111100  137103104100100   \n",
      "3  3398484891050993371  2190221704  137103102113100  137103102100100   \n",
      "4  2035477570591176488  2190220024  137103102109100  137103102100100   \n",
      "\n",
      "                                           user_tags  carrier  devtype  \\\n",
      "0                                                NaN        1        2   \n",
      "1  2100191,2100078,3001825,,3001781,3001791,30017...        3        2   \n",
      "2                                                NaN        3        2   \n",
      "3  2100098,gd_2100000,3001791,3001795,3002193,300...        0        2   \n",
      "4                                                NaN        1        2   \n",
      "\n",
      "     make            model  nnt  ...    creative_width creative_height  \\\n",
      "0  HUAWEI  HUAWEI-CAZ-AL10    1  ...              1280             720   \n",
      "1  Xiaomi     Redmi Note 4    1  ...               960             640   \n",
      "2    OPPO        OPPO+R11s    1  ...               960             640   \n",
      "3     NaN         OPPO A57    1  ...              1280             720   \n",
      "4   Apple         iPhone 7    3  ...               960             640   \n",
      "\n",
      "  creative_is_jump  creative_is_download  creative_is_js  creative_is_voicead  \\\n",
      "0             True                 False           False                False   \n",
      "1             True                 False           False                False   \n",
      "2             True                 False           False                False   \n",
      "3             True                 False           False                False   \n",
      "4             True                 False           False                False   \n",
      "\n",
      "  creative_has_deeplink  app_paid       advert_name  click  \n",
      "0                 False     False  B4734117F35EE97F      0  \n",
      "1                 False     False  B4734117F35EE97F      0  \n",
      "2                 False     False  E257895F74792E81      0  \n",
      "3                 False     False  0A421D7B11EABFC5      0  \n",
      "4                 False     False  B4734117F35EE97F      0  \n",
      "\n",
      "[5 rows x 35 columns]\n"
     ]
    }
   ],
   "source": [
    "print(train_data.head())"
   ]
  },
  {
   "cell_type": "code",
   "execution_count": 4,
   "metadata": {},
   "outputs": [],
   "source": [
    "test_data = pd.read_table('./data/round1_iflyad_test_feature.txt')"
   ]
  },
  {
   "cell_type": "code",
   "execution_count": 5,
   "metadata": {
    "scrolled": true
   },
   "outputs": [
    {
     "name": "stdout",
     "output_type": "stream",
     "text": [
      "           instance_id        time             city         province  \\\n",
      "0  6930856710792380886  2190675456  137103104101100  137103104100100   \n",
      "1  5460409694420131920  2190674821  137103104112100  137103104100100   \n",
      "2   982813438159141507  2190674111  137105103101100  137105103100100   \n",
      "3   529991959116679673  2190675256  137106101107100  137106101100100   \n",
      "4  5357053206615171780  2190673926  137103102101100  137103102100100   \n",
      "\n",
      "                                           user_tags  carrier  devtype  \\\n",
      "0                                                NaN        2        2   \n",
      "1                            3004406,3004430,3004434        1        2   \n",
      "2  3003779,3003843,3003851,3003863,3003865,300386...        2        2   \n",
      "3                                                NaN        2        2   \n",
      "4  2100191,2100041,2100078,2100136,2100042,300182...        3        2   \n",
      "\n",
      "        make            model  nnt        ...         creative_type  \\\n",
      "0      Apple    iPhone 8 Plus    1        ...                     8   \n",
      "1       vivo      vivo X9Plus    1        ...                     8   \n",
      "2  OPPO A73t        OPPO A73t    4        ...                     5   \n",
      "3    vivo Z1          vivo Z1    4        ...                     8   \n",
      "4     HUAWEI  HUAWEI MLA-AL10    4        ...                     5   \n",
      "\n",
      "  creative_width creative_height  creative_is_jump  creative_is_download  \\\n",
      "0            960             640              True                 False   \n",
      "1            960             640              True                 False   \n",
      "2            160             640              True                 False   \n",
      "3            960             640              True                 False   \n",
      "4            320             480              True                 False   \n",
      "\n",
      "   creative_is_js creative_is_voicead  creative_has_deeplink  app_paid  \\\n",
      "0           False               False                  False     False   \n",
      "1           False               False                  False     False   \n",
      "2           False               False                  False     False   \n",
      "3           False               False                  False     False   \n",
      "4           False               False                  False     False   \n",
      "\n",
      "        advert_name  \n",
      "0  B4734117F35EE97F  \n",
      "1  B4734117F35EE97F  \n",
      "2  B4734117F35EE97F  \n",
      "3  B4734117F35EE97F  \n",
      "4  42A4CB9035B7F50E  \n",
      "\n",
      "[5 rows x 34 columns]\n"
     ]
    }
   ],
   "source": [
    "print(test_data.head())"
   ]
  },
  {
   "cell_type": "code",
   "execution_count": 6,
   "metadata": {},
   "outputs": [
    {
     "name": "stdout",
     "output_type": "stream",
     "text": [
      "<class 'pandas.core.frame.DataFrame'>\n"
     ]
    }
   ],
   "source": [
    "print(type(test_data))"
   ]
  },
  {
   "cell_type": "code",
   "execution_count": 7,
   "metadata": {},
   "outputs": [
    {
     "name": "stdout",
     "output_type": "stream",
     "text": [
      "bool\n"
     ]
    }
   ],
   "source": [
    "print(test_data['creative_is_js'].dtype)"
   ]
  },
  {
   "cell_type": "code",
   "execution_count": 8,
   "metadata": {},
   "outputs": [],
   "source": [
    " for u in test_data.columns:\n",
    "    if test_data[u].dtype==bool:\n",
    "        test_data[u]=test_data[u].astype('int')"
   ]
  },
  {
   "cell_type": "code",
   "execution_count": 9,
   "metadata": {},
   "outputs": [
    {
     "name": "stdout",
     "output_type": "stream",
     "text": [
      "           instance_id        time             city         province  \\\n",
      "0  6930856710792380886  2190675456  137103104101100  137103104100100   \n",
      "1  5460409694420131920  2190674821  137103104112100  137103104100100   \n",
      "2   982813438159141507  2190674111  137105103101100  137105103100100   \n",
      "3   529991959116679673  2190675256  137106101107100  137106101100100   \n",
      "4  5357053206615171780  2190673926  137103102101100  137103102100100   \n",
      "\n",
      "                                           user_tags  carrier  devtype  \\\n",
      "0                                                NaN        2        2   \n",
      "1                            3004406,3004430,3004434        1        2   \n",
      "2  3003779,3003843,3003851,3003863,3003865,300386...        2        2   \n",
      "3                                                NaN        2        2   \n",
      "4  2100191,2100041,2100078,2100136,2100042,300182...        3        2   \n",
      "\n",
      "        make            model  nnt        ...         creative_type  \\\n",
      "0      Apple    iPhone 8 Plus    1        ...                     8   \n",
      "1       vivo      vivo X9Plus    1        ...                     8   \n",
      "2  OPPO A73t        OPPO A73t    4        ...                     5   \n",
      "3    vivo Z1          vivo Z1    4        ...                     8   \n",
      "4     HUAWEI  HUAWEI MLA-AL10    4        ...                     5   \n",
      "\n",
      "  creative_width creative_height  creative_is_jump  creative_is_download  \\\n",
      "0            960             640                 1                     0   \n",
      "1            960             640                 1                     0   \n",
      "2            160             640                 1                     0   \n",
      "3            960             640                 1                     0   \n",
      "4            320             480                 1                     0   \n",
      "\n",
      "   creative_is_js creative_is_voicead  creative_has_deeplink  app_paid  \\\n",
      "0               0                   0                      0         0   \n",
      "1               0                   0                      0         0   \n",
      "2               0                   0                      0         0   \n",
      "3               0                   0                      0         0   \n",
      "4               0                   0                      0         0   \n",
      "\n",
      "        advert_name  \n",
      "0  B4734117F35EE97F  \n",
      "1  B4734117F35EE97F  \n",
      "2  B4734117F35EE97F  \n",
      "3  B4734117F35EE97F  \n",
      "4  42A4CB9035B7F50E  \n",
      "\n",
      "[5 rows x 34 columns]\n"
     ]
    }
   ],
   "source": [
    "print(test_data.head())"
   ]
  },
  {
   "cell_type": "code",
   "execution_count": 12,
   "metadata": {},
   "outputs": [
    {
     "name": "stdout",
     "output_type": "stream",
     "text": [
      "40024\n"
     ]
    }
   ],
   "source": [
    "print(len(test_data['user_tags']))"
   ]
  },
  {
   "cell_type": "code",
   "execution_count": 13,
   "metadata": {
    "scrolled": true
   },
   "outputs": [
    {
     "name": "stdout",
     "output_type": "stream",
     "text": [
      "0    0\n",
      "1    0\n",
      "2    0\n",
      "3    0\n",
      "4    0\n",
      "Name: f_channel, dtype: object\n"
     ]
    }
   ],
   "source": [
    "test_data = test_data.fillna(0)\n",
    "print(test_data['f_channel'].head())"
   ]
  },
  {
   "cell_type": "code",
   "execution_count": 14,
   "metadata": {
    "scrolled": true
   },
   "outputs": [
    {
     "name": "stderr",
     "output_type": "stream",
     "text": [
      "C:\\ProgramData\\Anaconda2\\envs\\py36\\lib\\site-packages\\ipykernel_launcher.py:5: SettingWithCopyWarning: \n",
      "A value is trying to be set on a copy of a slice from a DataFrame\n",
      "\n",
      "See the caveats in the documentation: http://pandas.pydata.org/pandas-docs/stable/indexing.html#indexing-view-versus-copy\n",
      "  \"\"\"\n"
     ]
    }
   ],
   "source": [
    "#取f_channel字段中下划线后的数字\n",
    "for i in range(len(test_data['f_channel'])):\n",
    "    if test_data['f_channel'][i] != 0:\n",
    "        #print(i, test_data['f_channel'][i].split('_')[-1])\n",
    "        test_data['f_channel'][i] = test_data['f_channel'][i].split('_')[-1]"
   ]
  },
  {
   "cell_type": "code",
   "execution_count": 27,
   "metadata": {},
   "outputs": [
    {
     "name": "stdout",
     "output_type": "stream",
     "text": [
      "23\n"
     ]
    }
   ],
   "source": [
    "print(len(test_data['user_tags'][1]))"
   ]
  },
  {
   "cell_type": "code",
   "execution_count": null,
   "metadata": {},
   "outputs": [
    {
     "name": "stderr",
     "output_type": "stream",
     "text": [
      "C:\\ProgramData\\Anaconda2\\envs\\py36\\lib\\site-packages\\ipykernel_launcher.py:5: SettingWithCopyWarning: \n",
      "A value is trying to be set on a copy of a slice from a DataFrame\n",
      "\n",
      "See the caveats in the documentation: http://pandas.pydata.org/pandas-docs/stable/indexing.html#indexing-view-versus-copy\n",
      "  \"\"\"\n"
     ]
    }
   ],
   "source": [
    "#取user_tags长度\n",
    "for i in range(len(test_data['user_tags'])):\n",
    "    if type(test_data['user_tags'][i]) != int:\n",
    "        #print(i, test_data['f_channel'][i].split('_')[-1])\n",
    "        test_data['user_tags'][i] = len(test_data['user_tags'][i])"
   ]
  },
  {
   "cell_type": "code",
   "execution_count": null,
   "metadata": {},
   "outputs": [],
   "source": [
    "print(type(test_data['user_tags'][1]) == str)"
   ]
  },
  {
   "cell_type": "code",
   "execution_count": 18,
   "metadata": {},
   "outputs": [
    {
     "name": "stdout",
     "output_type": "stream",
     "text": [
      "1\n"
     ]
    }
   ],
   "source": [
    "print(test_data['user_tags'][1])"
   ]
  },
  {
   "cell_type": "code",
   "execution_count": 22,
   "metadata": {},
   "outputs": [],
   "source": [
    "for u in test_data['user_tags']:\n",
    "    if type(u) != int:\n",
    "        u = len(u)"
   ]
  },
  {
   "cell_type": "code",
   "execution_count": 23,
   "metadata": {},
   "outputs": [
    {
     "data": {
      "text/plain": [
       "135"
      ]
     },
     "execution_count": 23,
     "metadata": {},
     "output_type": "execute_result"
    }
   ],
   "source": [
    "len(test_data['user_tags'][2])"
   ]
  },
  {
   "cell_type": "code",
   "execution_count": 24,
   "metadata": {},
   "outputs": [
    {
     "data": {
      "text/plain": [
       "'3003779,3003843,3003851,3003863,3003865,3003869,3003875,3004059,3004081,3004089,3004153,3004214,3004266,3004430,3004434,3004500,3004506'"
      ]
     },
     "execution_count": 24,
     "metadata": {},
     "output_type": "execute_result"
    }
   ],
   "source": [
    "test_data['user_tags'][2]"
   ]
  },
  {
   "cell_type": "code",
   "execution_count": 37,
   "metadata": {},
   "outputs": [
    {
     "name": "stderr",
     "output_type": "stream",
     "text": [
      "C:\\ProgramData\\Anaconda2\\envs\\py36\\lib\\site-packages\\ipykernel_launcher.py:3: SettingWithCopyWarning: \n",
      "A value is trying to be set on a copy of a slice from a DataFrame\n",
      "\n",
      "See the caveats in the documentation: http://pandas.pydata.org/pandas-docs/stable/indexing.html#indexing-view-versus-copy\n",
      "  This is separate from the ipykernel package so we can avoid doing imports until\n"
     ]
    }
   ],
   "source": [
    "for u,i in zip(test_data['user_tags'], range(5)):\n",
    "    if type(u) != int:\n",
    "        test_data['user_tags'][i] = len(u)"
   ]
  },
  {
   "cell_type": "code",
   "execution_count": 38,
   "metadata": {},
   "outputs": [
    {
     "name": "stdout",
     "output_type": "stream",
     "text": [
      "0 0\n",
      "1 1\n",
      "135 2\n",
      "0 3\n",
      "824 4\n"
     ]
    }
   ],
   "source": [
    "for u,i in zip(test_data['user_tags'], range(5)):\n",
    "    print(u, i)"
   ]
  },
  {
   "cell_type": "code",
   "execution_count": 39,
   "metadata": {},
   "outputs": [
    {
     "name": "stderr",
     "output_type": "stream",
     "text": [
      "C:\\ProgramData\\Anaconda2\\envs\\py36\\lib\\site-packages\\ipykernel_launcher.py:3: SettingWithCopyWarning: \n",
      "A value is trying to be set on a copy of a slice from a DataFrame\n",
      "\n",
      "See the caveats in the documentation: http://pandas.pydata.org/pandas-docs/stable/indexing.html#indexing-view-versus-copy\n",
      "  This is separate from the ipykernel package so we can avoid doing imports until\n"
     ]
    }
   ],
   "source": [
    "for u,i in zip(test_data['user_tags'], range(len(test_data['user_tags']))):\n",
    "    if type(u) != int:\n",
    "        test_data['user_tags'][i] = len(u)"
   ]
  },
  {
   "cell_type": "code",
   "execution_count": null,
   "metadata": {},
   "outputs": [],
   "source": []
  }
 ],
 "metadata": {
  "kernelspec": {
   "display_name": "Python 3",
   "language": "python",
   "name": "python3"
  },
  "language_info": {
   "codemirror_mode": {
    "name": "ipython",
    "version": 3
   },
   "file_extension": ".py",
   "mimetype": "text/x-python",
   "name": "python",
   "nbconvert_exporter": "python",
   "pygments_lexer": "ipython3",
   "version": "3.6.4"
  }
 },
 "nbformat": 4,
 "nbformat_minor": 2
}
