{
 "cells": [
  {
   "cell_type": "code",
   "execution_count": 1,
   "metadata": {
    "collapsed": true
   },
   "outputs": [],
   "source": [
    "import numpy as np\n",
    "import pandas as pd"
   ]
  },
  {
   "cell_type": "code",
   "execution_count": 2,
   "metadata": {
    "collapsed": true,
    "scrolled": true
   },
   "outputs": [],
   "source": [
    "train_data = pd.read_table('./data/round1_iflyad_train.txt')\n",
    "test_data = pd.read_table('./data/round1_iflyad_test_feature.txt')\n",
    "\n",
    "train_data = train_data.drop(columns=['make', 'model', 'inner_slot_id', 'osv', 'advert_name'])\n",
    "test_data = test_data.drop(columns=['make', 'model', 'inner_slot_id', 'osv', 'advert_name'])\n",
    "\n",
    "train_data = train_data.fillna(0)\n",
    "test_data = test_data.fillna(0)"
   ]
  },
  {
   "cell_type": "code",
   "execution_count": 3,
   "metadata": {
    "collapsed": true
   },
   "outputs": [],
   "source": [
    "#将False值变为0\n",
    "for u in train_data.columns:\n",
    "    if train_data[u].dtype == bool:\n",
    "        train_data[u] = train_data[u].astype('int')\n",
    "\n",
    "for u in test_data.columns:\n",
    "    if test_data[u].dtype == bool:\n",
    "        test_data[u] = test_data[u].astype('int')"
   ]
  },
  {
   "cell_type": "code",
   "execution_count": 21,
   "metadata": {},
   "outputs": [
    {
     "data": {
      "text/plain": [
       "\"\\ntrain_data.columns = ['instance_id', 'time', 'city', 'province', 'user_tags', 'carrier',\\n       'devtype', 'make', 'model', 'nnt', 'os', 'osv', 'os_name', 'adid',\\n       'advert_id', 'orderid', 'advert_industry_inner', 'campaign_id',\\n       'creative_id', 'creative_tp_dnf', 'app_cate_id', 'f_channel', 'app_id',\\n       'inner_slot_id', 'creative_type', 'creative_width', 'creative_height',\\n       'creative_is_jump', 'creative_is_download', 'creative_is_js',\\n       'creative_is_voicead', 'creative_has_deeplink', 'app_paid',\\n       'advert_name', 'click']\\n\""
      ]
     },
     "execution_count": 21,
     "metadata": {},
     "output_type": "execute_result"
    }
   ],
   "source": [
    "'''\n",
    "train_data.columns = ['instance_id', 'time', 'city', 'province', 'user_tags', 'carrier',\n",
    "       'devtype', 'make', 'model', 'nnt', 'os', 'osv', 'os_name', 'adid',\n",
    "       'advert_id', 'orderid', 'advert_industry_inner', 'campaign_id',\n",
    "       'creative_id', 'creative_tp_dnf', 'app_cate_id', 'f_channel', 'app_id',\n",
    "       'inner_slot_id', 'creative_type', 'creative_width', 'creative_height',\n",
    "       'creative_is_jump', 'creative_is_download', 'creative_is_js',\n",
    "       'creative_is_voicead', 'creative_has_deeplink', 'app_paid',\n",
    "       'advert_name', 'click']\n",
    "'''"
   ]
  },
  {
   "cell_type": "code",
   "execution_count": 4,
   "metadata": {},
   "outputs": [
    {
     "name": "stdout",
     "output_type": "stream",
     "text": [
      "android    912891\n",
      "ios         88741\n",
      "unknown        18\n",
      "Name: os_name, dtype: int64\n",
      "android    35152\n",
      "ios         4871\n",
      "unknown        1\n",
      "Name: os_name, dtype: int64\n"
     ]
    }
   ],
   "source": [
    "#手机的操作系统有三种：安卓，苹果，未知\n",
    "print(train_data['os_name'].value_counts())\n",
    "print(test_data['os_name'].value_counts())"
   ]
  },
  {
   "cell_type": "code",
   "execution_count": 4,
   "metadata": {
    "collapsed": true
   },
   "outputs": [],
   "source": [
    "train_data.replace('android', 1, inplace=True)\n",
    "train_data.replace('ios', 2, inplace=True)\n",
    "train_data.replace('unknown', 0, inplace=True)\n",
    "\n",
    "test_data.replace('android', 1, inplace=True)\n",
    "test_data.replace('ios', 2, inplace=True)\n",
    "test_data.replace('unknown', 0, inplace=True)"
   ]
  },
  {
   "cell_type": "code",
   "execution_count": 5,
   "metadata": {},
   "outputs": [
    {
     "name": "stderr",
     "output_type": "stream",
     "text": [
      "C:\\ProgramData\\Anaconda2\\envs\\py36\\lib\\site-packages\\ipykernel_launcher.py:5: SettingWithCopyWarning: \n",
      "A value is trying to be set on a copy of a slice from a DataFrame\n",
      "\n",
      "See the caveats in the documentation: http://pandas.pydata.org/pandas-docs/stable/indexing.html#indexing-view-versus-copy\n",
      "  \"\"\"\n",
      "C:\\ProgramData\\Anaconda2\\envs\\py36\\lib\\site-packages\\ipykernel_launcher.py:10: SettingWithCopyWarning: \n",
      "A value is trying to be set on a copy of a slice from a DataFrame\n",
      "\n",
      "See the caveats in the documentation: http://pandas.pydata.org/pandas-docs/stable/indexing.html#indexing-view-versus-copy\n",
      "  # Remove the CWD from sys.path while we load stuff.\n"
     ]
    }
   ],
   "source": [
    "#取f_channel字段中下划线后的数字\n",
    "for i in range(len(test_data['f_channel'])):\n",
    "    if test_data['f_channel'][i] != 0:\n",
    "        #print(i, test_data['f_channel'][i].split('_')[-1])\n",
    "        test_data['f_channel'][i] = test_data['f_channel'][i].split('_')[-1]\n",
    "        \n",
    "for i in range(len(train_data['f_channel'])):\n",
    "    if train_data['f_channel'][i] != 0:\n",
    "        #print(i, test_data['f_channel'][i].split('_')[-1])\n",
    "        train_data['f_channel'][i] = train_data['f_channel'][i].split('_')[-1]"
   ]
  },
  {
   "cell_type": "code",
   "execution_count": 7,
   "metadata": {},
   "outputs": [
    {
     "name": "stderr",
     "output_type": "stream",
     "text": [
      "C:\\ProgramData\\Anaconda2\\envs\\py36\\lib\\site-packages\\ipykernel_launcher.py:4: SettingWithCopyWarning: \n",
      "A value is trying to be set on a copy of a slice from a DataFrame\n",
      "\n",
      "See the caveats in the documentation: http://pandas.pydata.org/pandas-docs/stable/indexing.html#indexing-view-versus-copy\n",
      "  after removing the cwd from sys.path.\n"
     ]
    }
   ],
   "source": [
    "#取user_tags的长度 \n",
    "for u,i in zip(test_data['user_tags'], range(len(test_data['user_tags']))):\n",
    "    if type(u) != int:\n",
    "        test_data['user_tags'][i] = len(u)"
   ]
  },
  {
   "cell_type": "code",
   "execution_count": 8,
   "metadata": {},
   "outputs": [
    {
     "name": "stderr",
     "output_type": "stream",
     "text": [
      "C:\\ProgramData\\Anaconda2\\envs\\py36\\lib\\site-packages\\ipykernel_launcher.py:3: SettingWithCopyWarning: \n",
      "A value is trying to be set on a copy of a slice from a DataFrame\n",
      "\n",
      "See the caveats in the documentation: http://pandas.pydata.org/pandas-docs/stable/indexing.html#indexing-view-versus-copy\n",
      "  This is separate from the ipykernel package so we can avoid doing imports until\n"
     ]
    }
   ],
   "source": [
    "for u,i in zip(train_data['user_tags'], range(len(train_data['user_tags']))):\n",
    "    if type(u) != int:\n",
    "        train_data['user_tags'][i] = len(u)"
   ]
  },
  {
   "cell_type": "code",
   "execution_count": 6,
   "metadata": {},
   "outputs": [
    {
     "name": "stdout",
     "output_type": "stream",
     "text": [
      "           instance_id        time             city         province  \\\n",
      "0  6930856710792380886  2190675456  137103104101100  137103104100100   \n",
      "1  5460409694420131920  2190674821  137103104112100  137103104100100   \n",
      "2   982813438159141507  2190674111  137105103101100  137105103100100   \n",
      "3   529991959116679673  2190675256  137106101107100  137106101100100   \n",
      "4  5357053206615171780  2190673926  137103102101100  137103102100100   \n",
      "\n",
      "                                           user_tags  carrier  devtype  nnt  \\\n",
      "0                                                  0        2        2    1   \n",
      "1                            3004406,3004430,3004434        1        2    1   \n",
      "2  3003779,3003843,3003851,3003863,3003865,300386...        2        2    4   \n",
      "3                                                  0        2        2    4   \n",
      "4  2100191,2100041,2100078,2100136,2100042,300182...        3        2    4   \n",
      "\n",
      "   os  os_name    ...        app_id  creative_type  creative_width  \\\n",
      "0   1        2    ...     1030051.0              8             960   \n",
      "1   2        1    ...     1080001.0              8             960   \n",
      "2   2        1    ...     1110016.0              5             160   \n",
      "3   2        1    ...     1110016.0              8             960   \n",
      "4   2        1    ...     1000049.0              5             320   \n",
      "\n",
      "  creative_height  creative_is_jump  creative_is_download  creative_is_js  \\\n",
      "0             640                 1                     0               0   \n",
      "1             640                 1                     0               0   \n",
      "2             640                 1                     0               0   \n",
      "3             640                 1                     0               0   \n",
      "4             480                 1                     0               0   \n",
      "\n",
      "   creative_is_voicead creative_has_deeplink  app_paid  \n",
      "0                    0                     0         0  \n",
      "1                    0                     0         0  \n",
      "2                    0                     0         0  \n",
      "3                    0                     0         0  \n",
      "4                    0                     0         0  \n",
      "\n",
      "[5 rows x 29 columns]\n"
     ]
    }
   ],
   "source": [
    "print(test_data.head())"
   ]
  },
  {
   "cell_type": "code",
   "execution_count": 9,
   "metadata": {},
   "outputs": [
    {
     "name": "stdout",
     "output_type": "stream",
     "text": [
      "           instance_id        time             city         province  \\\n",
      "0    86294719979897807  2190219034  137103102105100  137103102100100   \n",
      "1  2699289844928136052  2190221070  137105101100100  137105101100100   \n",
      "2  3117527168445845752  2190219793  137103104111100  137103104100100   \n",
      "3  3398484891050993371  2190221704  137103102113100  137103102100100   \n",
      "4  2035477570591176488  2190220024  137103102109100  137103102100100   \n",
      "\n",
      "  user_tags  carrier  devtype  nnt  os  os_name  ...    creative_type  \\\n",
      "0         0        1        2    1   2        1  ...                8   \n",
      "1       785        3        2    1   2        1  ...                8   \n",
      "2         0        3        2    1   2        1  ...                8   \n",
      "3       339        0        2    1   2        1  ...                3   \n",
      "4         0        1        2    3   1        2  ...                8   \n",
      "\n",
      "   creative_width  creative_height creative_is_jump  creative_is_download  \\\n",
      "0            1280              720                1                     0   \n",
      "1             960              640                1                     0   \n",
      "2             960              640                1                     0   \n",
      "3            1280              720                1                     0   \n",
      "4             960              640                1                     0   \n",
      "\n",
      "   creative_is_js  creative_is_voicead  creative_has_deeplink app_paid  click  \n",
      "0               0                    0                      0        0      0  \n",
      "1               0                    0                      0        0      0  \n",
      "2               0                    0                      0        0      0  \n",
      "3               0                    0                      0        0      0  \n",
      "4               0                    0                      0        0      0  \n",
      "\n",
      "[5 rows x 30 columns]\n"
     ]
    }
   ],
   "source": [
    "print(train_data.head())"
   ]
  },
  {
   "cell_type": "code",
   "execution_count": 11,
   "metadata": {
    "collapsed": true
   },
   "outputs": [],
   "source": [
    "test_data.to_csv('test_data.csv')"
   ]
  },
  {
   "cell_type": "code",
   "execution_count": 12,
   "metadata": {
    "collapsed": true
   },
   "outputs": [],
   "source": [
    "train_data.to_csv('train_data.csv')"
   ]
  },
  {
   "cell_type": "code",
   "execution_count": 17,
   "metadata": {},
   "outputs": [
    {
     "name": "stdout",
     "output_type": "stream",
     "text": [
      "instance_id                int64\n",
      "time                       int64\n",
      "city                       int64\n",
      "province                   int64\n",
      "user_tags                  int64\n",
      "carrier                    int64\n",
      "devtype                    int64\n",
      "nnt                        int64\n",
      "os                         int64\n",
      "os_name                    int64\n",
      "adid                       int64\n",
      "advert_id                  int64\n",
      "orderid                    int64\n",
      "advert_industry_inner     object\n",
      "campaign_id                int64\n",
      "creative_id                int64\n",
      "creative_tp_dnf            int64\n",
      "app_cate_id              float64\n",
      "f_channel                 object\n",
      "app_id                   float64\n",
      "creative_type              int64\n",
      "creative_width             int64\n",
      "creative_height            int64\n",
      "creative_is_jump           int64\n",
      "creative_is_download       int64\n",
      "creative_is_js             int64\n",
      "creative_is_voicead        int64\n",
      "creative_has_deeplink      int64\n",
      "app_paid                   int64\n",
      "dtype: object\n"
     ]
    }
   ],
   "source": [
    "print(test_data.dtypes)"
   ]
  },
  {
   "cell_type": "code",
   "execution_count": 19,
   "metadata": {
    "collapsed": true
   },
   "outputs": [],
   "source": [
    "#将user_tags\n",
    "test_data['user_tags'] = test_data['user_tags'].astype('int64')\n",
    "train_data['user_tags'] = train_data['user_tags'].astype('int64')"
   ]
  },
  {
   "cell_type": "code",
   "execution_count": 30,
   "metadata": {
    "collapsed": true
   },
   "outputs": [],
   "source": [
    "test_data['advert_first'] = ''\n",
    "test_data['advert_second'] = ''\n",
    "\n",
    "train_data['advert_first'] = ''\n",
    "train_data['advert_second'] = ''"
   ]
  },
  {
   "cell_type": "code",
   "execution_count": 23,
   "metadata": {},
   "outputs": [
    {
     "name": "stdout",
     "output_type": "stream",
     "text": [
      "['102400', '102401']\n"
     ]
    }
   ],
   "source": [
    "print(test_data['advert_industry_inner'][0].split('_'))"
   ]
  },
  {
   "cell_type": "code",
   "execution_count": 31,
   "metadata": {},
   "outputs": [
    {
     "data": {
      "text/plain": [
       "Index(['instance_id', 'time', 'city', 'province', 'user_tags', 'carrier',\n",
       "       'devtype', 'nnt', 'os', 'os_name', 'adid', 'advert_id', 'orderid',\n",
       "       'advert_industry_inner', 'campaign_id', 'creative_id',\n",
       "       'creative_tp_dnf', 'app_cate_id', 'f_channel', 'app_id',\n",
       "       'creative_type', 'creative_width', 'creative_height',\n",
       "       'creative_is_jump', 'creative_is_download', 'creative_is_js',\n",
       "       'creative_is_voicead', 'creative_has_deeplink', 'app_paid',\n",
       "       'advert_first', 'advert_second'],\n",
       "      dtype='object')"
      ]
     },
     "execution_count": 31,
     "metadata": {},
     "output_type": "execute_result"
    }
   ],
   "source": [
    "test_data.keys()"
   ]
  },
  {
   "cell_type": "code",
   "execution_count": null,
   "metadata": {
    "collapsed": true
   },
   "outputs": [],
   "source": [
    "for i in range(len(test_data['advert_industry_inner'])):\n",
    "    test_data['advert_first'][i] = test_data['advert_industry_inner'][i].split('_')[0]\n",
    "    test_data['advert_second'][i] = test_data['advert_industry_inner'][i].split('_')[1]"
   ]
  },
  {
   "cell_type": "code",
   "execution_count": 37,
   "metadata": {},
   "outputs": [
    {
     "data": {
      "text/html": [
       "<div>\n",
       "<style scoped>\n",
       "    .dataframe tbody tr th:only-of-type {\n",
       "        vertical-align: middle;\n",
       "    }\n",
       "\n",
       "    .dataframe tbody tr th {\n",
       "        vertical-align: top;\n",
       "    }\n",
       "\n",
       "    .dataframe thead th {\n",
       "        text-align: right;\n",
       "    }\n",
       "</style>\n",
       "<table border=\"1\" class=\"dataframe\">\n",
       "  <thead>\n",
       "    <tr style=\"text-align: right;\">\n",
       "      <th></th>\n",
       "      <th>instance_id</th>\n",
       "      <th>time</th>\n",
       "      <th>city</th>\n",
       "      <th>province</th>\n",
       "      <th>user_tags</th>\n",
       "      <th>carrier</th>\n",
       "      <th>devtype</th>\n",
       "      <th>nnt</th>\n",
       "      <th>os</th>\n",
       "      <th>os_name</th>\n",
       "      <th>...</th>\n",
       "      <th>creative_width</th>\n",
       "      <th>creative_height</th>\n",
       "      <th>creative_is_jump</th>\n",
       "      <th>creative_is_download</th>\n",
       "      <th>creative_is_js</th>\n",
       "      <th>creative_is_voicead</th>\n",
       "      <th>creative_has_deeplink</th>\n",
       "      <th>app_paid</th>\n",
       "      <th>advert_first</th>\n",
       "      <th>advert_second</th>\n",
       "    </tr>\n",
       "  </thead>\n",
       "  <tbody>\n",
       "    <tr>\n",
       "      <th>0</th>\n",
       "      <td>6930856710792380886</td>\n",
       "      <td>2190675456</td>\n",
       "      <td>137103104101100</td>\n",
       "      <td>137103104100100</td>\n",
       "      <td>0</td>\n",
       "      <td>2</td>\n",
       "      <td>2</td>\n",
       "      <td>1</td>\n",
       "      <td>1</td>\n",
       "      <td>2</td>\n",
       "      <td>...</td>\n",
       "      <td>960</td>\n",
       "      <td>640</td>\n",
       "      <td>1</td>\n",
       "      <td>0</td>\n",
       "      <td>0</td>\n",
       "      <td>0</td>\n",
       "      <td>0</td>\n",
       "      <td>0</td>\n",
       "      <td>102400</td>\n",
       "      <td>102401</td>\n",
       "    </tr>\n",
       "    <tr>\n",
       "      <th>1</th>\n",
       "      <td>5460409694420131920</td>\n",
       "      <td>2190674821</td>\n",
       "      <td>137103104112100</td>\n",
       "      <td>137103104100100</td>\n",
       "      <td>23</td>\n",
       "      <td>1</td>\n",
       "      <td>2</td>\n",
       "      <td>1</td>\n",
       "      <td>2</td>\n",
       "      <td>1</td>\n",
       "      <td>...</td>\n",
       "      <td>960</td>\n",
       "      <td>640</td>\n",
       "      <td>1</td>\n",
       "      <td>0</td>\n",
       "      <td>0</td>\n",
       "      <td>0</td>\n",
       "      <td>0</td>\n",
       "      <td>0</td>\n",
       "      <td>102400</td>\n",
       "      <td>102401</td>\n",
       "    </tr>\n",
       "    <tr>\n",
       "      <th>2</th>\n",
       "      <td>982813438159141507</td>\n",
       "      <td>2190674111</td>\n",
       "      <td>137105103101100</td>\n",
       "      <td>137105103100100</td>\n",
       "      <td>135</td>\n",
       "      <td>2</td>\n",
       "      <td>2</td>\n",
       "      <td>4</td>\n",
       "      <td>2</td>\n",
       "      <td>1</td>\n",
       "      <td>...</td>\n",
       "      <td>160</td>\n",
       "      <td>640</td>\n",
       "      <td>1</td>\n",
       "      <td>0</td>\n",
       "      <td>0</td>\n",
       "      <td>0</td>\n",
       "      <td>0</td>\n",
       "      <td>0</td>\n",
       "      <td>102400</td>\n",
       "      <td>102401</td>\n",
       "    </tr>\n",
       "    <tr>\n",
       "      <th>3</th>\n",
       "      <td>529991959116679673</td>\n",
       "      <td>2190675256</td>\n",
       "      <td>137106101107100</td>\n",
       "      <td>137106101100100</td>\n",
       "      <td>0</td>\n",
       "      <td>2</td>\n",
       "      <td>2</td>\n",
       "      <td>4</td>\n",
       "      <td>2</td>\n",
       "      <td>1</td>\n",
       "      <td>...</td>\n",
       "      <td>960</td>\n",
       "      <td>640</td>\n",
       "      <td>1</td>\n",
       "      <td>0</td>\n",
       "      <td>0</td>\n",
       "      <td>0</td>\n",
       "      <td>0</td>\n",
       "      <td>0</td>\n",
       "      <td>102400</td>\n",
       "      <td>102401</td>\n",
       "    </tr>\n",
       "    <tr>\n",
       "      <th>4</th>\n",
       "      <td>5357053206615171780</td>\n",
       "      <td>2190673926</td>\n",
       "      <td>137103102101100</td>\n",
       "      <td>137103102100100</td>\n",
       "      <td>824</td>\n",
       "      <td>3</td>\n",
       "      <td>2</td>\n",
       "      <td>4</td>\n",
       "      <td>2</td>\n",
       "      <td>1</td>\n",
       "      <td>...</td>\n",
       "      <td>320</td>\n",
       "      <td>480</td>\n",
       "      <td>1</td>\n",
       "      <td>0</td>\n",
       "      <td>0</td>\n",
       "      <td>0</td>\n",
       "      <td>0</td>\n",
       "      <td>0</td>\n",
       "      <td>101700</td>\n",
       "      <td>101704</td>\n",
       "    </tr>\n",
       "  </tbody>\n",
       "</table>\n",
       "<p>5 rows × 31 columns</p>\n",
       "</div>"
      ],
      "text/plain": [
       "           instance_id        time             city         province  \\\n",
       "0  6930856710792380886  2190675456  137103104101100  137103104100100   \n",
       "1  5460409694420131920  2190674821  137103104112100  137103104100100   \n",
       "2   982813438159141507  2190674111  137105103101100  137105103100100   \n",
       "3   529991959116679673  2190675256  137106101107100  137106101100100   \n",
       "4  5357053206615171780  2190673926  137103102101100  137103102100100   \n",
       "\n",
       "   user_tags  carrier  devtype  nnt  os  os_name      ...        \\\n",
       "0          0        2        2    1   1        2      ...         \n",
       "1         23        1        2    1   2        1      ...         \n",
       "2        135        2        2    4   2        1      ...         \n",
       "3          0        2        2    4   2        1      ...         \n",
       "4        824        3        2    4   2        1      ...         \n",
       "\n",
       "   creative_width  creative_height  creative_is_jump creative_is_download  \\\n",
       "0             960              640                 1                    0   \n",
       "1             960              640                 1                    0   \n",
       "2             160              640                 1                    0   \n",
       "3             960              640                 1                    0   \n",
       "4             320              480                 1                    0   \n",
       "\n",
       "   creative_is_js  creative_is_voicead  creative_has_deeplink  app_paid  \\\n",
       "0               0                    0                      0         0   \n",
       "1               0                    0                      0         0   \n",
       "2               0                    0                      0         0   \n",
       "3               0                    0                      0         0   \n",
       "4               0                    0                      0         0   \n",
       "\n",
       "  advert_first  advert_second  \n",
       "0       102400         102401  \n",
       "1       102400         102401  \n",
       "2       102400         102401  \n",
       "3       102400         102401  \n",
       "4       101700         101704  \n",
       "\n",
       "[5 rows x 31 columns]"
      ]
     },
     "execution_count": 37,
     "metadata": {},
     "output_type": "execute_result"
    }
   ],
   "source": [
    "test_data.head()"
   ]
  },
  {
   "cell_type": "code",
   "execution_count": 39,
   "metadata": {},
   "outputs": [
    {
     "data": {
      "text/plain": [
       "instance_id                int64\n",
       "time                       int64\n",
       "city                       int64\n",
       "province                   int64\n",
       "user_tags                  int64\n",
       "carrier                    int64\n",
       "devtype                    int64\n",
       "nnt                        int64\n",
       "os                         int64\n",
       "os_name                    int64\n",
       "adid                       int64\n",
       "advert_id                  int64\n",
       "orderid                    int64\n",
       "advert_industry_inner     object\n",
       "campaign_id                int64\n",
       "creative_id                int64\n",
       "creative_tp_dnf            int64\n",
       "app_cate_id              float64\n",
       "f_channel                 object\n",
       "app_id                   float64\n",
       "creative_type              int64\n",
       "creative_width             int64\n",
       "creative_height            int64\n",
       "creative_is_jump           int64\n",
       "creative_is_download       int64\n",
       "creative_is_js             int64\n",
       "creative_is_voicead        int64\n",
       "creative_has_deeplink      int64\n",
       "app_paid                   int64\n",
       "advert_first              object\n",
       "advert_second             object\n",
       "dtype: object"
      ]
     },
     "execution_count": 39,
     "metadata": {},
     "output_type": "execute_result"
    }
   ],
   "source": [
    "test_data.dtypes"
   ]
  },
  {
   "cell_type": "code",
   "execution_count": null,
   "metadata": {},
   "outputs": [
    {
     "name": "stderr",
     "output_type": "stream",
     "text": [
      "C:\\ProgramData\\Anaconda2\\envs\\py36\\lib\\site-packages\\ipykernel_launcher.py:2: SettingWithCopyWarning: \n",
      "A value is trying to be set on a copy of a slice from a DataFrame\n",
      "\n",
      "See the caveats in the documentation: http://pandas.pydata.org/pandas-docs/stable/indexing.html#indexing-view-versus-copy\n",
      "  \n",
      "C:\\ProgramData\\Anaconda2\\envs\\py36\\lib\\site-packages\\ipykernel_launcher.py:3: SettingWithCopyWarning: \n",
      "A value is trying to be set on a copy of a slice from a DataFrame\n",
      "\n",
      "See the caveats in the documentation: http://pandas.pydata.org/pandas-docs/stable/indexing.html#indexing-view-versus-copy\n",
      "  This is separate from the ipykernel package so we can avoid doing imports until\n"
     ]
    }
   ],
   "source": [
    "for i in range(len(train_data['advert_industry_inner'])):\n",
    "    train_data['advert_first'][i] = train_data['advert_industry_inner'][i].split('_')[0]\n",
    "    train_data['advert_second'][i] = train_data['advert_industry_inner'][i].split('_')[1]"
   ]
  },
  {
   "cell_type": "code",
   "execution_count": null,
   "metadata": {
    "collapsed": true
   },
   "outputs": [],
   "source": [
    "print(1)"
   ]
  },
  {
   "cell_type": "code",
   "execution_count": null,
   "metadata": {
    "collapsed": true
   },
   "outputs": [],
   "source": []
  }
 ],
 "metadata": {
  "kernelspec": {
   "display_name": "Python 3",
   "language": "python",
   "name": "python3"
  },
  "language_info": {
   "codemirror_mode": {
    "name": "ipython",
    "version": 3
   },
   "file_extension": ".py",
   "mimetype": "text/x-python",
   "name": "python",
   "nbconvert_exporter": "python",
   "pygments_lexer": "ipython3",
   "version": "3.6.4"
  }
 },
 "nbformat": 4,
 "nbformat_minor": 2
}
